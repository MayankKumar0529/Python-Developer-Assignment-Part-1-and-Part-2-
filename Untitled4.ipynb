{
  "nbformat": 4,
  "nbformat_minor": 0,
  "metadata": {
    "colab": {
      "provenance": [],
      "gpuType": "T4"
    },
    "kernelspec": {
      "name": "python3",
      "display_name": "Python 3"
    },
    "language_info": {
      "name": "python"
    },
    "accelerator": "GPU"
  },
  "cells": [
    {
      "cell_type": "code",
      "execution_count": null,
      "metadata": {
        "colab": {
          "base_uri": "https://localhost:8080/"
        },
        "id": "ezZyt_5p-G7d",
        "outputId": "e60d01f5-baee-4551-9889-a2ed5afa8df4"
      },
      "outputs": [
        {
          "output_type": "stream",
          "name": "stdout",
          "text": [
            "(7, 'python', ['and', 'fun', 'great', 'is', 'python'])\n"
          ]
        }
      ],
      "source": [
        "#Qustion 1\n",
        "def analyze_sentence(sentence):\n",
        "    words = sentence.split()\n",
        "    total_words  = len(words)\n",
        "    longest_word = max(words, key= len)\n",
        "    unique_words = sorted(set(words))\n",
        "    return total_words, longest_word, unique_words\n",
        "\n",
        "sentence = \"python is great and python is fun\"\n",
        "result = analyze_sentence(sentence)\n",
        "print(result)"
      ]
    },
    {
      "cell_type": "code",
      "source": [
        "# Question 2\n",
        "def read_student_file(filename):\n",
        "    students = [(\"Alice\", 85),(\"Bob\", 67 ),(\"charlie\" , 92),(\"David\", 74),(\"Eva\", 90)]\n",
        "\n",
        "    students.sort(key = lambda x: x[1], reverse = True)\n",
        "    total_marks = sum(marks for _, marks in students)\n",
        "    avg_marks = total_marks / len(students)\n",
        "\n",
        "    print(\"All Students and Marks:\")\n",
        "    for name , marks in students:\n",
        "        print(f\"{name}: {marks}\")\n",
        "\n",
        "    print(\"\\nTop 3 Students:\")\n",
        "    for name , marks in students[:3]:\n",
        "        print(f\"{name}: {marks}\")\n",
        "\n",
        "    print(f\"\\nAverage Marks of class: {avg_marks:.2f}\")\n",
        "\n",
        "read_student_file(\"student_data.txt\")"
      ],
      "metadata": {
        "id": "YeGI2QuOD1SA",
        "colab": {
          "base_uri": "https://localhost:8080/"
        },
        "outputId": "5870b0d6-83b9-452a-f426-ed15612cd379"
      },
      "execution_count": 11,
      "outputs": [
        {
          "output_type": "stream",
          "name": "stdout",
          "text": [
            "All Students and Marks:\n",
            "charlie: 92\n",
            "Eva: 90\n",
            "Alice: 85\n",
            "David: 74\n",
            "Bob: 67\n",
            "\n",
            "Top 3 Students:\n",
            "charlie: 92\n",
            "Eva: 90\n",
            "Alice: 85\n",
            "\n",
            "Average Marks of class: 81.60\n"
          ]
        }
      ]
    },
    {
      "cell_type": "code",
      "source": [
        "#Question 3\n",
        "class BankAccount:\n",
        "    def __init__(self, account: str, name: str, balance: float= 0.0):\n",
        "        self.account_number = account\n",
        "        self.name = name\n",
        "        self.balance = float(balance)\n",
        "\n",
        "    def deposit(self, amount: float) -> None:\n",
        "        if amount <= 0:\n",
        "            raise ValueError(\"Deposit amount must be positive\")\n",
        "        self.balance += amount\n",
        "        print(f\"Deposited {amount:.2f} to {self.name} (Acc: {self.account_number}). New balance: {self.balance:.2f}\")\n",
        "\n",
        "    def withdraw(self, amount: float) -> bool:\n",
        "        if amount <= 0:\n",
        "            print(\"Withdrawal amount must be positive\")\n",
        "            return False\n",
        "        if amount > self.balance:\n",
        "            print(f\"Withdrawal amount of {amount:.2f} failed for {self.name} (Acc: {self.account_number}). Insufficient balance.\")\n",
        "            return False\n",
        "\n",
        "        self.balance -= amount\n",
        "        print(f\"Withdrew {amount:.2f} from {self.name} (Acc: {self.account_number}). New balance: {self.balance:.2f}\")\n",
        "        return True\n",
        "\n",
        "    def get_balance(self) -> float:\n",
        "        return self.balance\n",
        "\n",
        "    def __str__(self):\n",
        "        return f\"BankAccount(account_number= {self.account_number}, name = {self.name}, balance  = {self.balance:.2f})\"\n",
        "\n",
        "if __name__ == \"__main__\":\n",
        "    account1 = BankAccount(\"A001\", \"Alice\")\n",
        "    account2 = BankAccount(\"B002\", \"Bob\")\n",
        "    print(\"Initial Accounts:\")\n",
        "    print(account1)\n",
        "    print(account2)\n",
        "    print()\n",
        "\n",
        "    account1.deposit(250.0)\n",
        "    account1.withdraw(50.0)\n",
        "    account1.withdraw(1000.0)\n",
        "    print(f\"Alice's balance : {account1.get_balance():.2f}\\n\")\n",
        "    account2.withdraw(30.0)\n",
        "    account2.deposit(70.0)\n",
        "    success = account2.withdraw(200)\n",
        "    print(f\"Bob's balance : {account2.get_balance():.2f}\\n\")\n",
        "\n",
        "    print(\"Updated Accounts:\")\n",
        "    print(account1)\n",
        "    print(account2)"
      ],
      "metadata": {
        "colab": {
          "base_uri": "https://localhost:8080/"
        },
        "id": "LGcyBv-yHceL",
        "outputId": "c5592b89-3080-48fd-d746-211ed39a3fa7"
      },
      "execution_count": 13,
      "outputs": [
        {
          "output_type": "stream",
          "name": "stdout",
          "text": [
            "Initial Accounts:\n",
            "BankAccount(account_number= A001, name = Alice, balance  = 0.00)\n",
            "BankAccount(account_number= B002, name = Bob, balance  = 0.00)\n",
            "\n",
            "Deposited 250.00 to Alice (Acc: A001). New balance: 250.00\n",
            "Withdrew 50.00 from Alice (Acc: A001). New balance: 200.00\n",
            "Withdrawal amount of 1000.00 failed for Alice (Acc: A001). Insufficient balance.\n",
            "Alice's balance : 200.00\n",
            "\n",
            "Withdrawal amount of 30.00 failed for Bob (Acc: B002). Insufficient balance.\n",
            "Deposited 70.00 to Bob (Acc: B002). New balance: 70.00\n",
            "Withdrawal amount of 200.00 failed for Bob (Acc: B002). Insufficient balance.\n",
            "Bob's balance : 70.00\n",
            "\n",
            "Updated Accounts:\n",
            "BankAccount(account_number= A001, name = Alice, balance  = 200.00)\n",
            "BankAccount(account_number= B002, name = Bob, balance  = 70.00)\n"
          ]
        }
      ]
    },
    {
      "cell_type": "code",
      "source": [
        "# Question 4\n",
        "from typing import List\n",
        "\n",
        "def two_sum(nums: List[int], target: int) -> List[int]:\n",
        "    seen = {}\n",
        "    for i, value in enumerate(nums):\n",
        "        needed = target - value\n",
        "        if needed in seen:\n",
        "            return [seen[needed], i]\n",
        "        seen[value] = i\n",
        "    raise ValueError(\"No two numbers solution found\")\n",
        "\n",
        "if __name__ == \"__main__\":\n",
        "    nums = [2, 7, 11, 15]\n",
        "    target = 9\n",
        "    print(two_sum(nums, target))"
      ],
      "metadata": {
        "colab": {
          "base_uri": "https://localhost:8080/"
        },
        "id": "mP-sfNR1PRbZ",
        "outputId": "4b3dce24-5073-4275-f00e-7e98abda1537"
      },
      "execution_count": 16,
      "outputs": [
        {
          "output_type": "stream",
          "name": "stdout",
          "text": [
            "[0, 1]\n"
          ]
        }
      ]
    },
    {
      "cell_type": "code",
      "source": [
        "#Question 5\n",
        "from collections import defaultdict\n",
        "def groupAnagrams(strs):\n",
        "  anagrams = defaultdict(list)\n",
        "  for word in strs:\n",
        "    sorted_word = ''.join(sorted(word))\n",
        "    anagrams[sorted_word].append(word)\n",
        "  return list(anagrams.values())\n",
        "\n",
        "if __name__ == \"__main__\":\n",
        "    strs = [\"eat\", \"tea\", \"tan\", \"ate\", \"nat\", \"bat\"]\n",
        "    print(groupAnagrams(strs))"
      ],
      "metadata": {
        "colab": {
          "base_uri": "https://localhost:8080/"
        },
        "id": "6RxsRJoGQ1zC",
        "outputId": "4dbb7daf-78a4-4bf3-bfe6-e939458be1cd"
      },
      "execution_count": 18,
      "outputs": [
        {
          "output_type": "stream",
          "name": "stdout",
          "text": [
            "[['eat', 'tea', 'ate'], ['tan', 'nat'], ['bat']]\n"
          ]
        }
      ]
    },
    {
      "cell_type": "code",
      "source": [
        "# Part 2 Mini project To-Do List manager\n",
        "import json\n",
        "import os\n",
        "\n",
        "TASK_FILE = \"tasks.json\"\n",
        "\n",
        "def load_tasks():\n",
        "    if os.path.exists(TASK_FILE):\n",
        "        with open(TASK_FILE, \"r\") as file:\n",
        "            try:\n",
        "                return json.load(file)\n",
        "            except json.JSONDecodeError:\n",
        "                return []\n",
        "    return []\n",
        "\n",
        "def save_tasks(tasks):\n",
        "    with open(TASK_FILE, \"w\") as file:\n",
        "        json.dump(tasks, file, indent=4)\n",
        "\n",
        "def add_task():\n",
        "    tasks = load_tasks()\n",
        "    description = input(\"Enter task description: \")\n",
        "    task_id = len(tasks) + 1\n",
        "    tasks.append({\"id\": task_id, \"description\": description, \"completed\": False})\n",
        "    save_tasks(tasks)\n",
        "    print(\"Task added successfully!\")\n",
        "\n",
        "def view_tasks():\n",
        "    tasks = load_tasks()\n",
        "    if not tasks:\n",
        "        print(\"No tasks found.\")\n",
        "        return\n",
        "    print(\"\\nYour Tasks:\")\n",
        "    print(\"-------------------------\")\n",
        "    for task in tasks:\n",
        "        status = \"✓\" if task[\"completed\"] else \"Pending\"\n",
        "        print(f\"{task['id']}. {task['description']} - {status}\")\n",
        "    print(\"--------------------------\")\n",
        "\n",
        "\n",
        "def complete_task():\n",
        "    tasks = load_tasks()\n",
        "    view_tasks()\n",
        "    try:\n",
        "        task_id = int(input(\"Enter task ID to mark as completed: \"))\n",
        "        found = False\n",
        "        for task in tasks:\n",
        "            if task[\"id\"] == task_id:\n",
        "                task[\"completed\"] = True\n",
        "                found = True\n",
        "                break\n",
        "        if found:\n",
        "            save_tasks(tasks)\n",
        "            print(\"Task marked as completed!\")\n",
        "        else:\n",
        "            print(\"Task not found.\")\n",
        "    except ValueError:\n",
        "        print(\"Invalid input. Please enter a number.\")\n",
        "\n",
        "\n",
        "def delete_task():\n",
        "    tasks = load_tasks()\n",
        "    view_tasks()\n",
        "    try:\n",
        "        task_id_to_delete = int(input(\"Enter task ID to delete: \"))\n",
        "        initial_task_count = len(tasks)\n",
        "        tasks = [task for task in tasks if task[\"id\"] != task_id_to_delete]\n",
        "        if len(tasks) < initial_task_count:\n",
        "            # Reassign IDs to maintain sequential numbering\n",
        "            for i, task in enumerate(tasks):\n",
        "                task[\"id\"] = i + 1\n",
        "            save_tasks(tasks)\n",
        "            print(\"Task deleted successfully!\")\n",
        "        else:\n",
        "            print(\"Task not found.\")\n",
        "    except ValueError:\n",
        "        print(\"Invalid input. Please enter a number.\")\n",
        "\n",
        "\n",
        "def main():\n",
        "    while True:\n",
        "        print(\"\\nTo-Do List Manager\")\n",
        "        print(\"-------------------\")\n",
        "        print(\"1. Add Task\")\n",
        "        print(\"2. View Tasks\")\n",
        "        print(\"3. Complete Task\")\n",
        "        print(\"4. Delete Task\")\n",
        "        print(\"5. Exit\")\n",
        "        print(\"-------------------\")\n",
        "        choice = input(\"Enter your choice (1/2/3/4/5): \")\n",
        "\n",
        "        if choice == \"1\":\n",
        "            add_task()\n",
        "        elif choice == \"2\":\n",
        "            view_tasks()\n",
        "        elif choice == \"3\":\n",
        "            complete_task()\n",
        "        elif choice == \"4\":\n",
        "            delete_task()\n",
        "        elif choice == \"5\":\n",
        "            print(\"Exiting To-Do List Manager. Goodbye!\")\n",
        "            break\n",
        "        else:\n",
        "            print(\"Invalid choice, Please try again.\")\n",
        "\n",
        "if __name__ == \"__main__\":\n",
        "    main()"
      ],
      "metadata": {
        "colab": {
          "base_uri": "https://localhost:8080/"
        },
        "id": "fu7GiTjnSK3T",
        "outputId": "3ee48037-36b3-4ad5-deb3-28e82a786c2e"
      },
      "execution_count": 20,
      "outputs": [
        {
          "output_type": "stream",
          "name": "stdout",
          "text": [
            "\n",
            "To-Do List Manager\n",
            "-------------------\n",
            "1. Add Task\n",
            "2. View Tasks\n",
            "3. Complete Task\n",
            "4. Delete Task\n",
            "5. Exit\n",
            "-------------------\n",
            "Enter your choice (1/2/3/4/5): 3\n",
            "No tasks found.\n",
            "Enter task ID to mark as completed: 5\n",
            "Task not found.\n",
            "\n",
            "To-Do List Manager\n",
            "-------------------\n",
            "1. Add Task\n",
            "2. View Tasks\n",
            "3. Complete Task\n",
            "4. Delete Task\n",
            "5. Exit\n",
            "-------------------\n",
            "Enter your choice (1/2/3/4/5): 5\n",
            "Exiting To-Do List Manager. Goodbye!\n"
          ]
        }
      ]
    }
  ]
}